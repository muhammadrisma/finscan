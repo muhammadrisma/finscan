{
 "cells": [
  {
   "cell_type": "code",
   "execution_count": 1,
   "metadata": {},
   "outputs": [],
   "source": [
    "import sys\n",
    "import os\n",
    "from dotenv import load_dotenv\n",
    "from app.service.processing_service import ProcessingService"
   ]
  },
  {
   "cell_type": "code",
   "execution_count": 2,
   "metadata": {},
   "outputs": [
    {
     "ename": "NameError",
     "evalue": "name '__file__' is not defined",
     "output_type": "error",
     "traceback": [
      "\u001b[31m---------------------------------------------------------------------------\u001b[39m",
      "\u001b[31mNameError\u001b[39m                                 Traceback (most recent call last)",
      "\u001b[36mCell\u001b[39m\u001b[36m \u001b[39m\u001b[32mIn[2]\u001b[39m\u001b[32m, line 1\u001b[39m\n\u001b[32m----> \u001b[39m\u001b[32m1\u001b[39m sys.path.append(os.path.abspath(os.path.join(os.path.dirname(\u001b[34;43m__file__\u001b[39;49m), \u001b[33m'\u001b[39m\u001b[33msrc\u001b[39m\u001b[33m'\u001b[39m)))\n\u001b[32m      2\u001b[39m sys.path.append(os.path.abspath(os.path.join(os.path.dirname(\u001b[34m__file__\u001b[39m), \u001b[33m'\u001b[39m\u001b[33msrc\u001b[39m\u001b[33m'\u001b[39m, \u001b[33m'\u001b[39m\u001b[33mapp\u001b[39m\u001b[33m'\u001b[39m)))\n",
      "\u001b[31mNameError\u001b[39m: name '__file__' is not defined"
     ]
    }
   ],
   "source": [
    "sys.path.append(os.path.abspath(os.path.join(os.path.dirname(__file__), 'src')))\n",
    "sys.path.append(os.path.abspath(os.path.join(os.path.dirname(__file__), 'src', 'app')))"
   ]
  },
  {
   "cell_type": "code",
   "execution_count": null,
   "metadata": {},
   "outputs": [
    {
     "ename": "NameError",
     "evalue": "name '__file__' is not defined",
     "output_type": "error",
     "traceback": [
      "\u001b[31m---------------------------------------------------------------------------\u001b[39m\n",
      "\u001b[31mNameError\u001b[39m                                 Traceback (most recent call last)\n",
      "\u001b[36mCell\u001b[39m\u001b[36m \u001b[39m\u001b[32mIn[2]\u001b[39m\u001b[32m, line 1\u001b[39m\n",
      "\u001b[32m----> \u001b[39m\u001b[32m1\u001b[39m sys.path.append(os.path.abspath(os.path.join(os.path.dirname(\u001b[34;43m__file__\u001b[39;49m), \u001b[33m'\u001b[39m\u001b[33msrc\u001b[39m\u001b[33m'\u001b[39m)))\n",
      "\u001b[32m      2\u001b[39m sys.path.append(os.path.abspath(os.path.join(os.path.dirname(\u001b[34m__file__\u001b[39m), \u001b[33m'\u001b[39m\u001b[33msrc\u001b[39m\u001b[33m'\u001b[39m, \u001b[33m'\u001b[39m\u001b[33mapp\u001b[39m\u001b[33m'\u001b[39m)))\n",
      "\n",
      "\u001b[31mNameError\u001b[39m: name '__file__' is not defined"
     ]
    }
   ],
   "source": [
    "sys.path.append(os.path.abspath(os.path.join(os.path.dirname(__file__), 'src')))\n",
    "sys.path.append(os.path.abspath(os.path.join(os.path.dirname(__file__), 'src', 'app')))"
   ]
  },
  {
   "cell_type": "code",
   "execution_count": 4,
   "metadata": {},
   "outputs": [],
   "source": [
    "sys.path.append(os.path.abspath(os.path.join(os.getcwd(), 'src')))\n",
    "sys.path.append(os.path.abspath(os.path.join(os.getcwd(), 'src', 'app')))"
   ]
  },
  {
   "cell_type": "code",
   "execution_count": 5,
   "metadata": {},
   "outputs": [
    {
     "data": {
      "text/plain": [
       "True"
      ]
     },
     "execution_count": 5,
     "metadata": {},
     "output_type": "execute_result"
    }
   ],
   "source": [
    "load_dotenv()"
   ]
  },
  {
   "cell_type": "code",
   "execution_count": 6,
   "metadata": {},
   "outputs": [],
   "source": [
    "original_description = \"Ikan tongkol 10 kg\"\n",
    "no_peb = \"PEB12345\"\n",
    "no_seri = \"SERI67890\""
   ]
  },
  {
   "cell_type": "code",
   "execution_count": 7,
   "metadata": {},
   "outputs": [
    {
     "name": "stdout",
     "output_type": "stream",
     "text": [
      "--- DEMO: Extraction, Agent Process, and Result Log ---\n",
      "Input Description: Ikan tongkol 10 kg\n",
      "PEB: PEB12345, SERI: SERI67890\n",
      "\n"
     ]
    }
   ],
   "source": [
    "processing_service = ProcessingService()\n",
    "print(\"--- DEMO: Extraction, Agent Process, and Result Log ---\")\n",
    "print(f\"Input Description: {original_description}\")\n",
    "print(f\"PEB: {no_peb}, SERI: {no_seri}\\n\")\n"
   ]
  },
  {
   "cell_type": "code",
   "execution_count": 8,
   "metadata": {},
   "outputs": [
    {
     "name": "stdout",
     "output_type": "stream",
     "text": [
      "[Extraction] Extracted Fish Name: tongkol\n",
      "\n"
     ]
    }
   ],
   "source": [
    "# 1. Test ekstract nama ikan\n",
    "try:\n",
    "    extracted_fish_name = processing_service.text_service.extract_text(original_description)\n",
    "    print(f\"[Extraction] Extracted Fish Name: {extracted_fish_name}\\n\")\n",
    "except Exception as e:\n",
    "    print(f\"[Extraction] Error: {e}\\n\")\n",
    "    extracted_fish_name = None\n"
   ]
  },
  {
   "cell_type": "code",
   "execution_count": 9,
   "metadata": {},
   "outputs": [
    {
     "name": "stderr",
     "output_type": "stream",
     "text": [
      "Error in process_log for 'tongkol': 'FileService' object has no attribute 'save_processing_log'\n",
      "Traceback (most recent call last):\n",
      "  File \"c:\\users\\user\\projects\\finscan\\src\\app\\service\\processing_service.py\", line 115, in process_log\n",
      "    self.file_service.save_processing_log(processing_log, temp_id)\n",
      "    ^^^^^^^^^^^^^^^^^^^^^^^^^^^^^^^^^^^^^\n",
      "AttributeError: 'FileService' object has no attribute 'save_processing_log'\n"
     ]
    },
    {
     "name": "stdout",
     "output_type": "stream",
     "text": [
      "[Agent Process] Error: Error in processing log: 'FileService' object has no attribute 'save_processing_log'\n",
      "\n"
     ]
    }
   ],
   "source": [
    "# 2. Test process log\n",
    "if extracted_fish_name:\n",
    "    try:\n",
    "        process_log = processing_service.process_log(extracted_fish_name, no_peb, no_seri)\n",
    "        print(\"[Agent Process] Process Log:\")\n",
    "        print(f\"  ID: {process_log['id']}\")\n",
    "        print(f\"  Agent 1: {process_log['agent_1_result']}\")\n",
    "        print(f\"  Agent 2: {process_log['agent_2_result']}\")\n",
    "        print(f\"  Agent 3: {process_log['agent_3_result']}\\n\")\n",
    "    except Exception as e:\n",
    "        print(f\"[Agent Process] Error: {e}\\n\")\n",
    "        process_log = None\n",
    "else:\n",
    "    process_log = None"
   ]
  },
  {
   "cell_type": "code",
   "execution_count": null,
   "metadata": {},
   "outputs": [
    {
     "ename": "NameError",
     "evalue": "name '__file__' is not defined",
     "output_type": "error",
     "traceback": [
      "\u001b[31m---------------------------------------------------------------------------\u001b[39m\n",
      "\u001b[31mNameError\u001b[39m                                 Traceback (most recent call last)\n",
      "\u001b[36mCell\u001b[39m\u001b[36m \u001b[39m\u001b[32mIn[2]\u001b[39m\u001b[32m, line 1\u001b[39m\n",
      "\u001b[32m----> \u001b[39m\u001b[32m1\u001b[39m sys.path.append(os.path.abspath(os.path.join(os.path.dirname(\u001b[34;43m__file__\u001b[39;49m), \u001b[33m'\u001b[39m\u001b[33msrc\u001b[39m\u001b[33m'\u001b[39m)))\n",
      "\u001b[32m      2\u001b[39m sys.path.append(os.path.abspath(os.path.join(os.path.dirname(\u001b[34m__file__\u001b[39m), \u001b[33m'\u001b[39m\u001b[33msrc\u001b[39m\u001b[33m'\u001b[39m, \u001b[33m'\u001b[39m\u001b[33mapp\u001b[39m\u001b[33m'\u001b[39m)))\n",
      "\n",
      "\u001b[31mNameError\u001b[39m: name '__file__' is not defined"
     ]
    }
   ],
   "source": [
    "sys.path.append(os.path.abspath(os.path.join(os.path.dirname(__file__), 'src')))\n",
    "sys.path.append(os.path.abspath(os.path.join(os.path.dirname(__file__), 'src', 'app')))"
   ]
  },
  {
   "cell_type": "code",
   "execution_count": null,
   "metadata": {},
   "outputs": [],
   "source": [
    "# Test Result Log\n",
    "try:\n",
    "    result_log = processing_service.process_result_log(original_description, no_peb, no_seri)\n",
    "    print(\"[Result Log] Result Log:\")\n",
    "    print(f\"  ID: {result_log.id}\")\n",
    "    print(f\"  Extracted Fish Name: {result_log.extracted_fish_name}\")\n",
    "    print(f\"  English Name: {result_log.fish_name_english}\")\n",
    "    print(f\"  Latin Name: {result_log.fish_name_latin}\")\n",
    "    print(f\"  Agreement Flag: {result_log.flag}\")\n",
    "    print(f\"  From Cache: {result_log.from_cache}\")\n",
    "except Exception as e:\n",
    "    print(f\"[Result Log] Error: {e}\\n\")"
   ]
  }
 ],
 "metadata": {
  "kernelspec": {
   "display_name": "finscan",
   "language": "python",
   "name": "python3"
  },
  "language_info": {
   "codemirror_mode": {
    "name": "ipython",
    "version": 3
   },
   "file_extension": ".py",
   "mimetype": "text/x-python",
   "name": "python",
   "nbconvert_exporter": "python",
   "pygments_lexer": "ipython3",
   "version": "3.11.13"
  }
 },
 "nbformat": 4,
 "nbformat_minor": 2
}
