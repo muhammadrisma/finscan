{
 "cells": [
  {
   "cell_type": "code",
   "execution_count": 1,
   "metadata": {},
   "outputs": [],
   "source": [
    "import sys\n",
    "import os\n",
    "from dotenv import load_dotenv\n",
    "from app.service.processing_service import ProcessingService"
   ]
  },
  {
   "cell_type": "markdown",
   "metadata": {},
   "source": [
    "# Note untuk melakukan demo notebook, pastikan sudah membuat postgresql didocker dan dalam keadaan sedang berjalan agar nanti code dibawah bisa mengaksesnya\n",
    "# Pastikan sudah menyiapkan .env"
   ]
  },
  {
   "cell_type": "code",
   "execution_count": 2,
   "metadata": {},
   "outputs": [],
   "source": [
    "sys.path.append(os.path.abspath(os.path.join(os.getcwd(), 'src')))\n",
    "sys.path.append(os.path.abspath(os.path.join(os.getcwd(), 'src', 'app')))\n"
   ]
  },
  {
   "cell_type": "code",
   "execution_count": 3,
   "metadata": {},
   "outputs": [
    {
     "data": {
      "text/plain": [
       "True"
      ]
     },
     "execution_count": 3,
     "metadata": {},
     "output_type": "execute_result"
    }
   ],
   "source": [
    "load_dotenv()"
   ]
  },
  {
   "cell_type": "code",
   "execution_count": 4,
   "metadata": {},
   "outputs": [],
   "source": [
    "original_description = \"Ikan tongkol 10 kg\"\n",
    "no_peb = \"PEB12345\"\n",
    "no_seri = \"SERI67890\""
   ]
  },
  {
   "cell_type": "code",
   "execution_count": 5,
   "metadata": {},
   "outputs": [
    {
     "name": "stdout",
     "output_type": "stream",
     "text": [
      "--- DEMO: Extraction, Agent Process, and Result Log ---\n",
      "Input Description: Ikan tongkol 10 kg\n",
      "PEB: PEB12345, SERI: SERI67890\n",
      "\n"
     ]
    }
   ],
   "source": [
    "processing_service = ProcessingService()\n",
    "print(\"--- DEMO: Extraction, Agent Process, and Result Log ---\")\n",
    "print(f\"Input Description: {original_description}\")\n",
    "print(f\"PEB: {no_peb}, SERI: {no_seri}\\n\")\n"
   ]
  },
  {
   "cell_type": "code",
   "execution_count": 6,
   "metadata": {},
   "outputs": [
    {
     "name": "stdout",
     "output_type": "stream",
     "text": [
      "[Extraction] Extracted Fish Name: tongkol\n",
      "\n"
     ]
    }
   ],
   "source": [
    "# 1. Test ekstract nama ikan\n",
    "try:\n",
    "    extracted_fish_name = processing_service.text_service.extract_text(original_description)\n",
    "    print(f\"[Extraction] Extracted Fish Name: {extracted_fish_name}\\n\")\n",
    "except Exception as e:\n",
    "    print(f\"[Extraction] Error: {e}\\n\")\n",
    "    extracted_fish_name = None\n"
   ]
  },
  {
   "cell_type": "code",
   "execution_count": 14,
   "metadata": {},
   "outputs": [
    {
     "name": "stdout",
     "output_type": "stream",
     "text": [
      "[Agent Process] Process Log:\n",
      "  ID: 58\n",
      "  [Cached Result] Fish Name English: Eastern Little Tuna\n",
      "  [Cached Result] Fish Name Latin: Euthynnus affinis\n",
      "  [Cached Result] Extracted Name: tongkol\n"
     ]
    }
   ],
   "source": [
    "if extracted_fish_name:\n",
    "    try:\n",
    "        process_log = processing_service.process_log(extracted_fish_name, no_peb, no_seri)\n",
    "        print(\"[Agent Process] Process Log:\")\n",
    "        print(f\"  ID: {process_log['id']}\")\n",
    "\n",
    "        if process_log.get(\"cached_result\"):\n",
    "            print(\"  [Cached Result] Fish Name English:\", process_log[\"fish_name_english\"])\n",
    "            print(\"  [Cached Result] Fish Name Latin:\", process_log[\"fish_name_latin\"])\n",
    "            print(\"  [Cached Result] Extracted Name:\", process_log[\"extracted_fish_name\"])\n",
    "        else:\n",
    "            print(f\"  Agent 1: {process_log['agent_1_result']}\")\n",
    "            print(f\"  Agent 2: {process_log['agent_2_result']}\")\n",
    "            print(f\"  Agent 3: {process_log['agent_3_result']}\\n\")\n",
    "    except Exception as e:\n",
    "        print(f\"[Agent Process] Error: {e}\\n\")\n",
    "        process_log = None\n",
    "else:\n",
    "    process_log = None\n"
   ]
  },
  {
   "cell_type": "code",
   "execution_count": 15,
   "metadata": {},
   "outputs": [
    {
     "name": "stdout",
     "output_type": "stream",
     "text": [
      "[Result Log] Result Log:\n",
      "  ID: 13\n",
      "  Extracted Fish Name: tongkol\n",
      "  English Name: Eastern Little Tuna\n",
      "  Latin Name: Euthynnus affinis\n",
      "  Agreement Flag: True\n",
      "  From Cache: True\n"
     ]
    }
   ],
   "source": [
    "# Test Result Log\n",
    "try:\n",
    "    result_log = processing_service.process_result_log(original_description, no_peb, no_seri)\n",
    "    print(\"[Result Log] Result Log:\")\n",
    "    print(f\"  ID: {result_log.id}\")\n",
    "    print(f\"  Extracted Fish Name: {result_log.extracted_fish_name}\")\n",
    "    print(f\"  English Name: {result_log.fish_name_english}\")\n",
    "    print(f\"  Latin Name: {result_log.fish_name_latin}\")\n",
    "    print(f\"  Agreement Flag: {result_log.flag}\")\n",
    "    print(f\"  From Cache: {result_log.from_cache}\")\n",
    "except Exception as e:\n",
    "    print(f\"[Result Log] Error: {e}\\n\")"
   ]
  },
  {
   "cell_type": "code",
   "execution_count": null,
   "metadata": {},
   "outputs": [],
   "source": []
  }
 ],
 "metadata": {
  "kernelspec": {
   "display_name": "finscan",
   "language": "python",
   "name": "python3"
  },
  "language_info": {
   "codemirror_mode": {
    "name": "ipython",
    "version": 3
   },
   "file_extension": ".py",
   "mimetype": "text/x-python",
   "name": "python",
   "nbconvert_exporter": "python",
   "pygments_lexer": "ipython3",
   "version": "3.11.13"
  }
 },
 "nbformat": 4,
 "nbformat_minor": 2
}
